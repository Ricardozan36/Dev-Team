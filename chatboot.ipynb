{
  "nbformat": 4,
  "nbformat_minor": 0,
  "metadata": {
    "colab": {
      "provenance": [],
      "authorship_tag": "ABX9TyPl7qqJtzEgn8W2iDWQvxVA",
      "include_colab_link": true
    },
    "kernelspec": {
      "name": "python3",
      "display_name": "Python 3"
    },
    "language_info": {
      "name": "python"
    }
  },
  "cells": [
    {
      "cell_type": "markdown",
      "metadata": {
        "id": "view-in-github",
        "colab_type": "text"
      },
      "source": [
        "<a href=\"https://colab.research.google.com/github/Ricardozan36/Dev-Team/blob/main/chatboot.ipynb\" target=\"_parent\"><img src=\"https://colab.research.google.com/assets/colab-badge.svg\" alt=\"Open In Colab\"/></a>"
      ]
    },
    {
      "cell_type": "code",
      "execution_count": 8,
      "metadata": {
        "id": "I-b4pzkpSNXm"
      },
      "outputs": [],
      "source": [
        "!pip install -q google-generativeai"
      ]
    },
    {
      "cell_type": "code",
      "source": [
        "import google.generativeai as gg"
      ],
      "metadata": {
        "id": "xF2SEXRKV95s"
      },
      "execution_count": 3,
      "outputs": []
    },
    {
      "cell_type": "code",
      "source": [
        "from google.colab import userdata\n",
        "GOOGLE_GEMINI_API_KEY = userdata.get (\"GOOGLE_GEMINI_API_KEY\")\n",
        "gg.configure(api_key=GOOGLE_GEMINI_API_KEY)"
      ],
      "metadata": {
        "id": "OZjM_YRjW0me"
      },
      "execution_count": 9,
      "outputs": []
    },
    {
      "cell_type": "code",
      "source": [
        "for m in gg.list_models():\n",
        "  if 'generateContent' in m.supported_generation_methods:\n",
        "    print(m.name)"
      ],
      "metadata": {
        "colab": {
          "base_uri": "https://localhost:8080/",
          "height": 590
        },
        "id": "Jo55lYL_Xg30",
        "outputId": "ba091c09-cea5-4f09-d7a4-23e73e38857b"
      },
      "execution_count": 10,
      "outputs": [
        {
          "output_type": "stream",
          "name": "stdout",
          "text": [
            "models/gemini-1.0-pro-vision-latest\n",
            "models/gemini-pro-vision\n",
            "models/gemini-1.5-pro-latest\n",
            "models/gemini-1.5-pro-001\n",
            "models/gemini-1.5-pro-002\n",
            "models/gemini-1.5-pro\n",
            "models/gemini-1.5-flash-latest\n",
            "models/gemini-1.5-flash-001\n",
            "models/gemini-1.5-flash-001-tuning\n",
            "models/gemini-1.5-flash\n",
            "models/gemini-1.5-flash-002\n",
            "models/gemini-1.5-flash-8b\n",
            "models/gemini-1.5-flash-8b-001\n",
            "models/gemini-1.5-flash-8b-latest\n",
            "models/gemini-1.5-flash-8b-exp-0827\n",
            "models/gemini-1.5-flash-8b-exp-0924\n",
            "models/gemini-2.5-pro-exp-03-25\n",
            "models/gemini-2.0-flash-exp\n",
            "models/gemini-2.0-flash\n",
            "models/gemini-2.0-flash-001\n",
            "models/gemini-2.0-flash-exp-image-generation\n",
            "models/gemini-2.0-flash-lite-001\n",
            "models/gemini-2.0-flash-lite\n",
            "models/gemini-2.0-flash-lite-preview-02-05\n",
            "models/gemini-2.0-flash-lite-preview\n",
            "models/gemini-2.0-pro-exp\n",
            "models/gemini-2.0-pro-exp-02-05\n",
            "models/gemini-exp-1206\n",
            "models/gemini-2.0-flash-thinking-exp-01-21\n",
            "models/gemini-2.0-flash-thinking-exp\n",
            "models/gemini-2.0-flash-thinking-exp-1219\n",
            "models/learnlm-1.5-pro-experimental\n",
            "models/gemma-3-27b-it\n"
          ]
        }
      ]
    },
    {
      "cell_type": "code",
      "source": [
        "model = gg.GenerativeModel ('models/gemini-1.5-pro-latest')"
      ],
      "metadata": {
        "id": "H7-rUxNqe2M1"
      },
      "execution_count": 11,
      "outputs": []
    },
    {
      "cell_type": "code",
      "source": [
        "response = model.generate_content(\"Quem criou a Gemini?\")\n",
        "response.text"
      ],
      "metadata": {
        "colab": {
          "base_uri": "https://localhost:8080/",
          "height": 35
        },
        "id": "elV2i5rpfI0c",
        "outputId": "a6e9dced-db32-45ce-f270-9d0a9f9b703f"
      },
      "execution_count": 13,
      "outputs": [
        {
          "output_type": "execute_result",
          "data": {
            "text/plain": [
              "'O Gemini foi criado pelo Google.\\n'"
            ],
            "application/vnd.google.colaboratory.intrinsic+json": {
              "type": "string"
            }
          },
          "metadata": {},
          "execution_count": 13
        }
      ]
    },
    {
      "cell_type": "code",
      "source": [
        "chat = model.start_chat(history=[])\n",
        "\n",
        "prompt = input (\"Qual sua pergunta: \")\n",
        "\n",
        "while prompt != \"fim\":\n",
        "  response = chat.send_message(prompt)\n",
        "  print(response.text)\n",
        "  prompt = input (\"Quer saber algo mais? \")"
      ],
      "metadata": {
        "colab": {
          "base_uri": "https://localhost:8080/",
          "height": 594
        },
        "id": "0_hOS570fMi8",
        "outputId": "8c2094e9-4e1c-40a3-926e-07b04359388c"
      },
      "execution_count": null,
      "outputs": [
        {
          "output_type": "stream",
          "name": "stdout",
          "text": [
            "Qual sua pergunta: como ficar rico\n",
            "Não existe uma fórmula mágica para ficar rico rapidamente. A riqueza, na maioria dos casos, é construída com tempo, esforço e uma combinação de fatores.  Aqui estão alguns princípios importantes e caminhos possíveis:\n",
            "\n",
            "**Princípios Fundamentais:**\n",
            "\n",
            "* **Educação Financeira:**  Entender como o dinheiro funciona é crucial. Aprenda sobre investimentos, orçamento, juros compostos, impostos e gestão de dívidas.  Livros, cursos online e workshops podem ajudar.\n",
            "* **Mentalidade de Crescimento:**  Estar disposto a aprender, adaptar-se e sair da zona de conforto é essencial.  Acredite em seu potencial e esteja aberto a novas oportunidades.\n",
            "* **Disciplina e Paciência:**  Construir riqueza leva tempo.  É preciso ter disciplina para seguir um plano financeiro, mesmo com desafios, e paciência para esperar os resultados.\n",
            "* **Gestão de Risco:**  Entenda que todo investimento envolve riscos. Diversifique seus investimentos para minimizar perdas e nunca invista dinheiro que você não pode perder.\n",
            "* **Rede de Contatos (Networking):**  Conectar-se com pessoas em sua área de atuação ou em áreas que lhe interessam pode abrir portas para novas oportunidades e aprendizados.\n",
            "\n",
            "**Caminhos Possíveis:**\n",
            "\n",
            "* **Empreendedorismo:** Criar um negócio próprio pode ser um caminho para a riqueza, mas exige muito trabalho, dedicação e a capacidade de assumir riscos.  Identifique uma necessidade no mercado e ofereça uma solução inovadora.\n",
            "* **Investimentos:**  Investir seu dinheiro de forma inteligente é fundamental para fazê-lo crescer. Explore diferentes opções, como ações, títulos, imóveis, fundos imobiliários e outros.  Procure aconselhamento profissional se necessário.\n",
            "* **Carreira Profissional:**  Concentrar-se em desenvolver habilidades e conhecimentos em sua área de atuação pode levar a promoções e maiores salários.  Considere especializações, cursos e certificações.\n",
            "* **Mercado Imobiliário:** Investir em imóveis pode gerar renda passiva através de aluguéis e valorização do patrimônio.  No entanto, exige pesquisa e análise cuidadosa do mercado.\n",
            "* **Criação de Conteúdo/Produtos Digitais:**  A internet oferece oportunidades para criar e vender conteúdo online, como cursos, ebooks, vídeos, etc.  Isso pode gerar renda passiva e escalável.\n",
            "\n",
            "**Advertências:**\n",
            "\n",
            "* **Desconfie de esquemas de enriquecimento rápido:**  Promessas de ganhos fáceis e rápidos geralmente são golpes.  Não caia em armadilhas.\n",
            "* **Não se endivide para investir:**  Investir com dinheiro emprestado aumenta o risco e pode levar a sérios problemas financeiros.\n",
            "* **Busque aconselhamento profissional:**  Se precisar de ajuda com suas finanças, consulte um planejador financeiro qualificado.\n",
            "\n",
            "\n",
            "Lembre-se:  A riqueza não é apenas sobre dinheiro.  Envolve também saúde, relacionamentos e propósito de vida.  Concentre-se em construir uma vida plena e significativa, e o sucesso financeiro poderá ser uma consequência.\n",
            "\n",
            "Quer saber algo mais? não obrigado\n",
            "Tudo bem.  Se precisar de informações sobre outros assuntos, sinta-se à vontade para perguntar.\n",
            "\n"
          ]
        }
      ]
    },
    {
      "cell_type": "code",
      "source": [],
      "metadata": {
        "id": "SpUfT89sfMBl"
      },
      "execution_count": null,
      "outputs": []
    }
  ]
}